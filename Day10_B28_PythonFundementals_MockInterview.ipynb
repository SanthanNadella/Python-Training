{
 "cells": [
  {
   "cell_type": "code",
   "execution_count": null,
   "metadata": {},
   "outputs": [],
   "source": [
    "1. What is a string?\n",
    "   String is a series of characters.It is an 'immutable datatype'.\n",
    "   Can be declared in Single,Double and Triple quotes. "
   ]
  },
  {
   "cell_type": "code",
   "execution_count": null,
   "metadata": {},
   "outputs": [],
   "source": [
    "2. What is the use of f string?\n",
    "   f string can be used to embedded the any expression or name or greetings.\n",
    "   Can be declared using f '{placeholder1} {placeholder2}......{placeholdern}'"
   ]
  },
  {
   "cell_type": "code",
   "execution_count": null,
   "metadata": {},
   "outputs": [],
   "source": [
    "3. What is a list?\n",
    "   List is a collection of items in a paticular order.\n",
    "   Defined by using [] and classified as 'Mutable datatype'. "
   ]
  },
  {
   "cell_type": "code",
   "execution_count": null,
   "metadata": {},
   "outputs": [],
   "source": [
    "4. What is the syntax for 'for' loop?\n",
    "   use for and then give the variable name."
   ]
  },
  {
   "cell_type": "code",
   "execution_count": null,
   "metadata": {},
   "outputs": [],
   "source": [
    "5. What is the difference between sort and sorted?"
   ]
  },
  {
   "cell_type": "code",
   "execution_count": null,
   "metadata": {},
   "outputs": [],
   "source": [
    "6. What is the tuple datatype?\n",
    "   An immutable list is called as tuple.\n",
    "   Defined using ()--->Parenthesis. "
   ]
  },
  {
   "cell_type": "code",
   "execution_count": null,
   "metadata": {},
   "outputs": [],
   "source": [
    "7. Explain concept of conditional statements?"
   ]
  },
  {
   "cell_type": "code",
   "execution_count": null,
   "metadata": {},
   "outputs": [],
   "source": [
    "8. name = shafi m here what is the string method to be used to make it in proper format?\n",
    "   .title() i.e print(name.title()) is the method to be used to name in proper format."
   ]
  },
  {
   "cell_type": "code",
   "execution_count": null,
   "metadata": {},
   "outputs": [],
   "source": [
    "9. students = ['a','b','c','d','e']--->what is the method to be used to get total count?"
   ]
  },
  {
   "cell_type": "code",
   "execution_count": null,
   "metadata": {},
   "outputs": [],
   "source": [
    "10. student 'f'-->has to be added to the above student list.What is the method to be used?\n",
    "     Append"
   ]
  },
  {
   "cell_type": "code",
   "execution_count": null,
   "metadata": {},
   "outputs": [],
   "source": [
    "11. student 'g'--->has to be added in 2nd index position in above list what is the method to be used?\n",
    "    Insert"
   ]
  },
  {
   "cell_type": "code",
   "execution_count": null,
   "metadata": {},
   "outputs": [],
   "source": [
    "12. What is the difference between append and insert"
   ]
  },
  {
   "cell_type": "code",
   "execution_count": null,
   "metadata": {},
   "outputs": [],
   "source": [
    "13. What is the difference between the list and tuple?\n",
    "    List is collection of items classified as 'mutable datatype'.\n",
    "    Tuple is also collection of items classified as 'immutable datatype'"
   ]
  },
  {
   "cell_type": "code",
   "execution_count": null,
   "metadata": {},
   "outputs": [],
   "source": [
    "14. Explain what is dictionary datatype?\n",
    "    Dictionary is combination of KEY and VALUE pairs. Defined using {}.\n",
    "    Classified as 'Mutable datatype'."
   ]
  }
 ],
 "metadata": {
  "kernelspec": {
   "display_name": "Python 3",
   "language": "python",
   "name": "python3"
  },
  "language_info": {
   "codemirror_mode": {
    "name": "ipython",
    "version": 3
   },
   "file_extension": ".py",
   "mimetype": "text/x-python",
   "name": "python",
   "nbconvert_exporter": "python",
   "pygments_lexer": "ipython3",
   "version": "3.8.3"
  }
 },
 "nbformat": 4,
 "nbformat_minor": 4
}
