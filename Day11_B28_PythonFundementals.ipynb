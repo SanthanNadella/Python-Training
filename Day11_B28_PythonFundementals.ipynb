{
 "cells": [
  {
   "cell_type": "code",
   "execution_count": null,
   "metadata": {},
   "outputs": [],
   "source": [
    "Implementation of looping with dict:"
   ]
  },
  {
   "cell_type": "code",
   "execution_count": null,
   "metadata": {},
   "outputs": [],
   "source": [
    "Req : Students survey poll of fav language"
   ]
  },
  {
   "cell_type": "code",
   "execution_count": 1,
   "metadata": {},
   "outputs": [],
   "source": [
    "favourite_languages = {\n",
    "    'sam' : 'python',\n",
    "    'santhan' : 'java',\n",
    "    'iswarya' : 'c',\n",
    "    'shafi' : 'c++',\n",
    "    'pradeepa' : 'swift'\n",
    "}"
   ]
  },
  {
   "cell_type": "code",
   "execution_count": 2,
   "metadata": {},
   "outputs": [
    {
     "name": "stdout",
     "output_type": "stream",
     "text": [
      "{'sam': 'python', 'santhan': 'java', 'iswarya': 'c', 'shafi': 'c++', 'pradeepa': 'swift'}\n"
     ]
    }
   ],
   "source": [
    "print(favourite_languages)"
   ]
  },
  {
   "cell_type": "code",
   "execution_count": 3,
   "metadata": {},
   "outputs": [
    {
     "data": {
      "text/plain": [
       "dict"
      ]
     },
     "execution_count": 3,
     "metadata": {},
     "output_type": "execute_result"
    }
   ],
   "source": [
    "type(favourite_languages)"
   ]
  },
  {
   "cell_type": "code",
   "execution_count": null,
   "metadata": {},
   "outputs": [],
   "source": [
    "Req : To see what santhan has selected as language??"
   ]
  },
  {
   "cell_type": "code",
   "execution_count": 4,
   "metadata": {},
   "outputs": [],
   "source": [
    "language = favourite_languages['santhan'].title()"
   ]
  },
  {
   "cell_type": "code",
   "execution_count": 6,
   "metadata": {},
   "outputs": [
    {
     "name": "stdout",
     "output_type": "stream",
     "text": [
      "Santhan's favourite language is Java.\n"
     ]
    }
   ],
   "source": [
    "print(f\"Santhan's favourite language is {language}.\")  #using f string."
   ]
  },
  {
   "cell_type": "code",
   "execution_count": null,
   "metadata": {},
   "outputs": [],
   "source": [
    "Another example :"
   ]
  },
  {
   "cell_type": "code",
   "execution_count": 9,
   "metadata": {},
   "outputs": [],
   "source": [
    "user_details = {\n",
    "    'username' : 'santhan_nadella',\n",
    "    'first' : 'santhan',\n",
    "    'last' : 'nadella',\n",
    "    'dob' : '07-11-1995'\n",
    "}"
   ]
  },
  {
   "cell_type": "code",
   "execution_count": 10,
   "metadata": {},
   "outputs": [
    {
     "name": "stdout",
     "output_type": "stream",
     "text": [
      "{'username': 'santhan_nadella', 'first': 'santhan', 'last': 'nadella', 'dob': '07-11-1995'}\n"
     ]
    }
   ],
   "source": [
    "print(user_details)"
   ]
  },
  {
   "cell_type": "code",
   "execution_count": null,
   "metadata": {},
   "outputs": [],
   "source": [
    "for loop implementation in dict: ---> keys and values\n",
    "    for tempvar1,tempvar2 in mainvar.items()---> #syntax\n",
    "    print(tempvar1)\n",
    "    print(tempvar2)"
   ]
  },
  {
   "cell_type": "code",
   "execution_count": 11,
   "metadata": {},
   "outputs": [
    {
     "name": "stdout",
     "output_type": "stream",
     "text": [
      "username\n",
      "santhan_nadella\n",
      "first\n",
      "santhan\n",
      "last\n",
      "nadella\n",
      "dob\n",
      "07-11-1995\n"
     ]
    }
   ],
   "source": [
    "for key,value in user_details.items():\n",
    "    print(key)\n",
    "    print(value)       #we get raw output implementing this i.e not clear key and value."
   ]
  },
  {
   "cell_type": "code",
   "execution_count": 14,
   "metadata": {},
   "outputs": [
    {
     "name": "stdout",
     "output_type": "stream",
     "text": [
      "\n",
      "key : username\n",
      "value : santhan_nadella\n",
      "\n",
      "key : first\n",
      "value : santhan\n",
      "\n",
      "key : last\n",
      "value : nadella\n",
      "\n",
      "key : dob\n",
      "value : 07-11-1995\n"
     ]
    }
   ],
   "source": [
    "for k,v in user_details.items():\n",
    "    print(f\"\\nkey : {k}\")\n",
    "    print(f\"value : {v}\")   #proper output we get to know clearly which is key and value \n",
    "                           #difference between two syntaxes is using \\n classifies keys and values as a group."
   ]
  },
  {
   "cell_type": "code",
   "execution_count": 13,
   "metadata": {},
   "outputs": [
    {
     "name": "stdout",
     "output_type": "stream",
     "text": [
      "key : dob\n",
      "value : 07-11-1995\n",
      "key : dob\n",
      "value : 07-11-1995\n",
      "key : dob\n",
      "value : 07-11-1995\n",
      "key : dob\n",
      "value : 07-11-1995\n"
     ]
    }
   ],
   "source": [
    "for ke,val in user_details.items():\n",
    "    print(f\"key : {k}\")\n",
    "    print(f\"value : {v}\")   "
   ]
  },
  {
   "cell_type": "code",
   "execution_count": null,
   "metadata": {},
   "outputs": [],
   "source": [
    "Implementation of for loop on favourite_languages dict :"
   ]
  },
  {
   "cell_type": "code",
   "execution_count": 15,
   "metadata": {},
   "outputs": [
    {
     "name": "stdout",
     "output_type": "stream",
     "text": [
      "{'sam': 'python', 'santhan': 'java', 'iswarya': 'c', 'shafi': 'c++', 'pradeepa': 'swift'}\n"
     ]
    }
   ],
   "source": [
    "print(favourite_languages)"
   ]
  },
  {
   "cell_type": "code",
   "execution_count": 20,
   "metadata": {},
   "outputs": [
    {
     "name": "stdout",
     "output_type": "stream",
     "text": [
      "Sam's favourite language is Python.\n",
      "Santhan's favourite language is Java.\n",
      "Iswarya's favourite language is C.\n",
      "Shafi's favourite language is C++.\n",
      "Pradeepa's favourite language is Swift.\n"
     ]
    }
   ],
   "source": [
    "for name,language in favourite_languages.items():\n",
    "    print(f\"{name.title()}'s favourite language is {language.title()}.\")"
   ]
  },
  {
   "cell_type": "code",
   "execution_count": null,
   "metadata": {},
   "outputs": [],
   "source": [
    "Looping through all the keys in favourite_languages dict :"
   ]
  },
  {
   "cell_type": "code",
   "execution_count": 21,
   "metadata": {},
   "outputs": [
    {
     "name": "stdout",
     "output_type": "stream",
     "text": [
      "sam\n",
      "santhan\n",
      "iswarya\n",
      "shafi\n",
      "pradeepa\n"
     ]
    }
   ],
   "source": [
    "for x in favourite_languages.keys():\n",
    "    print(x)                         #this gives the keys in paticular dict"
   ]
  },
  {
   "cell_type": "code",
   "execution_count": null,
   "metadata": {},
   "outputs": [],
   "source": [
    "Looping through all the values in favourite_languages dict:"
   ]
  },
  {
   "cell_type": "code",
   "execution_count": 23,
   "metadata": {},
   "outputs": [
    {
     "name": "stdout",
     "output_type": "stream",
     "text": [
      "python\n",
      "java\n",
      "c\n",
      "c++\n",
      "swift\n"
     ]
    }
   ],
   "source": [
    "for y in favourite_languages.values():\n",
    "    print(y)                          #this gives the values in paticular dict"
   ]
  },
  {
   "cell_type": "code",
   "execution_count": null,
   "metadata": {},
   "outputs": [],
   "source": [
    "looping through all the keys in user_details dict:"
   ]
  },
  {
   "cell_type": "code",
   "execution_count": 24,
   "metadata": {},
   "outputs": [
    {
     "name": "stdout",
     "output_type": "stream",
     "text": [
      "username\n",
      "first\n",
      "last\n",
      "dob\n"
     ]
    }
   ],
   "source": [
    "for a in user_details.keys():\n",
    "    print(a)                 #here 'a' is the temporary variable and in place of a anything can be used"
   ]
  },
  {
   "cell_type": "code",
   "execution_count": null,
   "metadata": {},
   "outputs": [],
   "source": [
    "Looping through all the values in user_details dict:"
   ]
  },
  {
   "cell_type": "code",
   "execution_count": 25,
   "metadata": {},
   "outputs": [
    {
     "name": "stdout",
     "output_type": "stream",
     "text": [
      "santhan_nadella\n",
      "santhan\n",
      "nadella\n",
      "07-11-1995\n"
     ]
    }
   ],
   "source": [
    "for b in user_details.values():\n",
    "    print(b)                   #here 'b' is the temporary variable and in place of b anything can be used"
   ]
  },
  {
   "cell_type": "code",
   "execution_count": null,
   "metadata": {},
   "outputs": [],
   "source": []
  },
  {
   "cell_type": "code",
   "execution_count": null,
   "metadata": {},
   "outputs": [],
   "source": []
  },
  {
   "cell_type": "code",
   "execution_count": null,
   "metadata": {},
   "outputs": [],
   "source": []
  }
 ],
 "metadata": {
  "kernelspec": {
   "display_name": "Python 3",
   "language": "python",
   "name": "python3"
  },
  "language_info": {
   "codemirror_mode": {
    "name": "ipython",
    "version": 3
   },
   "file_extension": ".py",
   "mimetype": "text/x-python",
   "name": "python",
   "nbconvert_exporter": "python",
   "pygments_lexer": "ipython3",
   "version": "3.8.3"
  }
 },
 "nbformat": 4,
 "nbformat_minor": 4
}
